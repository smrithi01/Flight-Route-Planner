{
 "cells": [
  {
   "cell_type": "code",
   "execution_count": 16,
   "id": "1027d0c6-55c6-40f3-b8dc-06552d1d68f9",
   "metadata": {},
   "outputs": [],
   "source": [
    "import pandas as pd\n",
    "import networkx as nx\n",
    "from heapq import heappop, heappush"
   ]
  },
  {
   "cell_type": "code",
   "execution_count": 17,
   "id": "32192d58-efdb-4e34-85ee-b7ffb2ef76b0",
   "metadata": {},
   "outputs": [],
   "source": [
    "# Load the dataset\n",
    "routes = pd.read_csv('route.csv')\n"
   ]
  },
  {
   "cell_type": "code",
   "execution_count": 18,
   "id": "a60b9cc9-df33-4c8f-a9b4-d7a687f3f256",
   "metadata": {},
   "outputs": [
    {
     "name": "stdout",
     "output_type": "stream",
     "text": [
      "Index(['airline', 'airline ID', ' source airport', ' source airport id',\n",
      "       ' destination apirport', ' destination airport id', ' codeshare',\n",
      "       ' stops', ' equipment'],\n",
      "      dtype='object')\n"
     ]
    }
   ],
   "source": [
    "# Print the column names\n",
    "print(routes.columns)"
   ]
  },
  {
   "cell_type": "code",
   "execution_count": 19,
   "id": "648a6e88-d302-4499-8848-a5a768f27fd5",
   "metadata": {},
   "outputs": [],
   "source": [
    "# Create a directed graph\n",
    "G = nx.DiGraph()"
   ]
  },
  {
   "cell_type": "code",
   "execution_count": 20,
   "id": "13e1b61b-3d48-4604-933c-7dd8fc69b94f",
   "metadata": {},
   "outputs": [],
   "source": [
    "# Adjust these column names if they differ in your CSV file\n",
    "source_col = ' source airport'\n",
    "destination_col = ' destination apirport'\n",
    "weight_col='weight' "
   ]
  },
  {
   "cell_type": "code",
   "execution_count": 21,
   "id": "419e867d-5410-4ed6-bd52-e45c8a7d901b",
   "metadata": {},
   "outputs": [],
   "source": [
    "# Add edges to the graph with weights\n",
    "for _, row in routes.iterrows():\n",
    "    source = row[source_col]\n",
    "    destination = row[destination_col]\n",
    "    weight = row.get(weight_col, 1)  # Default weight to 1 if no weight column is present\n",
    "    G.add_edge(source, destination, weight=weight)"
   ]
  },
  {
   "cell_type": "code",
   "execution_count": 22,
   "id": "e9f8aadb-f05a-48eb-a51b-45e7ff6256a7",
   "metadata": {},
   "outputs": [],
   "source": [
    "def heuristic(node, goal, graph):\n",
    "    # Simplified heuristic: zero (acts like Dijkstra's algorithm)\n",
    "    return 0\n"
   ]
  },
  {
   "cell_type": "code",
   "execution_count": 23,
   "id": "8a46731c-f825-4432-b3b0-f368e5cf11fc",
   "metadata": {},
   "outputs": [],
   "source": [
    "def astar(graph, start, end):\n",
    "    queue = [(0, start, [])]\n",
    "    costs = {start: 0}\n",
    "    while queue:\n",
    "        (cost, node, path) = heappop(queue)\n",
    "        if node == end:\n",
    "            return (cost, path + [node])\n",
    "        path = path + [node]\n",
    "        for next_node in graph[node]:\n",
    "            new_cost = cost + graph[node][next_node]['weight']\n",
    "            if next_node not in costs or new_cost < costs[next_node]:\n",
    "                costs[next_node] = new_cost\n",
    "                priority = new_cost + heuristic(next_node, end, graph)\n",
    "                heappush(queue, (priority, next_node, path))\n",
    "    return float(\"inf\"), []"
   ]
  },
  {
   "cell_type": "code",
   "execution_count": 25,
   "id": "d17fed61-3bbd-4cbd-8eb6-2805aa13acb9",
   "metadata": {},
   "outputs": [
    {
     "name": "stdout",
     "output_type": "stream",
     "text": [
      "Welcome to the Flight Route Planner!\n"
     ]
    },
    {
     "name": "stdin",
     "output_type": "stream",
     "text": [
      "Enter the IATA code of the start airport:  BLR\n",
      "Enter the IATA code of the destination airport:  LAX\n"
     ]
    },
    {
     "name": "stdout",
     "output_type": "stream",
     "text": [
      "Optimal path from BLR to LAX costs 2 with path: ['BLR', 'CDG', 'LAX']\n"
     ]
    }
   ],
   "source": [
    "def main():\n",
    "    print(\"Welcome to the Flight Route Planner!\")\n",
    "    start_airport = input(\"Enter the IATA code of the start airport: \")\n",
    "    end_airport = input(\"Enter the IATA code of the destination airport: \")\n",
    "    \n",
    "    if start_airport not in G.nodes or end_airport not in G.nodes:\n",
    "        print(\"Invalid airport codes entered. Please try again.\")\n",
    "        return\n",
    "    \n",
    "    cost, path = astar(G, start_airport, end_airport)\n",
    "    \n",
    "    if cost == float(\"inf\"):\n",
    "        print(f\"No available route from {start_airport} to {end_airport}.\")\n",
    "    else:\n",
    "        print(f\"Optimal path from {start_airport} to {end_airport} costs {cost} with path: {path}\")\n",
    "\n",
    "if __name__ == \"__main__\":\n",
    "    main()"
   ]
  },
  {
   "cell_type": "code",
   "execution_count": null,
   "id": "d5a61c2b-e23c-4a55-a7bd-17bd1644acb9",
   "metadata": {},
   "outputs": [],
   "source": []
  }
 ],
 "metadata": {
  "kernelspec": {
   "display_name": "Python 3 (ipykernel)",
   "language": "python",
   "name": "python3"
  },
  "language_info": {
   "codemirror_mode": {
    "name": "ipython",
    "version": 3
   },
   "file_extension": ".py",
   "mimetype": "text/x-python",
   "name": "python",
   "nbconvert_exporter": "python",
   "pygments_lexer": "ipython3",
   "version": "3.11.7"
  }
 },
 "nbformat": 4,
 "nbformat_minor": 5
}
